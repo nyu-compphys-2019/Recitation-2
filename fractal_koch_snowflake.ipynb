{
 "cells": [
  {
   "cell_type": "code",
   "execution_count": 22,
   "metadata": {},
   "outputs": [],
   "source": [
    "import turtle as t"
   ]
  },
  {
   "cell_type": "code",
   "execution_count": 23,
   "metadata": {},
   "outputs": [],
   "source": [
    "def koch(t, order, size):\n",
    "\n",
    "    #Make turtle t draw a Koch fractal of 'order' and 'size'     \n",
    "\n",
    "\n",
    "    if order == 0:          # The base case is just a straight line\n",
    "        t.forward(size)\n",
    "    else:\n",
    "        koch(t, order-1, size/3)   # Go 1/3 of the way\n",
    "        t.left(60)                  \n",
    "        koch(t, order-1, size/3)   #turn left and go on the triangle\n",
    "        t.right(120)\n",
    "        koch(t, order-1, size/3)   #turn right and complete the triangle\n",
    "        t.left(60)\n",
    "        koch(t, order-1, size/3)   #Complete the last 1/3 of the way"
   ]
  },
  {
   "cell_type": "code",
   "execution_count": 27,
   "metadata": {
    "scrolled": true
   },
   "outputs": [],
   "source": [
    "koch(t, 3, 300)"
   ]
  },
  {
   "cell_type": "code",
   "execution_count": 28,
   "metadata": {},
   "outputs": [],
   "source": [
    "t.done()"
   ]
  },
  {
   "cell_type": "code",
   "execution_count": null,
   "metadata": {},
   "outputs": [],
   "source": []
  }
 ],
 "metadata": {
  "kernelspec": {
   "display_name": "Python 3",
   "language": "python",
   "name": "python3"
  },
  "language_info": {
   "codemirror_mode": {
    "name": "ipython",
    "version": 3
   },
   "file_extension": ".py",
   "mimetype": "text/x-python",
   "name": "python",
   "nbconvert_exporter": "python",
   "pygments_lexer": "ipython3",
   "version": "3.6.5"
  }
 },
 "nbformat": 4,
 "nbformat_minor": 2
}
